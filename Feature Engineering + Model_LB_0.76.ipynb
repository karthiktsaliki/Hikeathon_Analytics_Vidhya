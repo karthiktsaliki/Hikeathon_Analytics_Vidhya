{
 "cells": [
  {
   "cell_type": "code",
   "execution_count": 1,
   "metadata": {},
   "outputs": [],
   "source": [
    "import pandas as pd\n",
    "import numpy as np"
   ]
  },
  {
   "cell_type": "code",
   "execution_count": 2,
   "metadata": {},
   "outputs": [],
   "source": [
    "train=pd.read_csv('train.csv')\n",
    "test=pd.read_csv('test.csv')"
   ]
  },
  {
   "cell_type": "code",
   "execution_count": 3,
   "metadata": {},
   "outputs": [],
   "source": [
    "train_fe=pd.read_csv('train_fe_vals.csv')"
   ]
  },
  {
   "cell_type": "code",
   "execution_count": 4,
   "metadata": {},
   "outputs": [
    {
     "name": "stdout",
     "output_type": "stream",
     "text": [
      "Memory usage after optimization is: 606.50 MB\n",
      "Decreased by 62.5%\n",
      "Memory usage after optimization is: 134.78 MB\n",
      "Decreased by 50.0%\n",
      "Memory usage after optimization is: 76.27 MB\n",
      "Decreased by 68.7%\n"
     ]
    }
   ],
   "source": [
    "def reduce_mem_usage(df, verbose=True):\n",
    "    numerics = ['int16', 'int32', 'int64', 'float16', 'float32', 'float64']\n",
    "    start_mem = df.memory_usage().sum() / 1024**2\n",
    "    for col in df.columns:\n",
    "        col_type = df[col].dtypes\n",
    "        if col_type in numerics:\n",
    "            c_min = df[col].min()\n",
    "            c_max = df[col].max()\n",
    "            if str(col_type)[:3] == 'int':\n",
    "                if c_min > np.iinfo(np.int8).min and c_max < np.iinfo(np.int8).max:\n",
    "                    df[col] = df[col].astype(np.int8)\n",
    "                elif c_min > np.iinfo(np.int16).min and c_max < np.iinfo(np.int16).max:\n",
    "                    df[col] = df[col].astype(np.int16)\n",
    "                elif c_min > np.iinfo(np.int32).min and c_max < np.iinfo(np.int32).max:\n",
    "                    df[col] = df[col].astype(np.int32)\n",
    "                elif c_min > np.iinfo(np.int64).min and c_max < np.iinfo(np.int64).max:\n",
    "                    df[col] = df[col].astype(np.int64)\n",
    "            else:\n",
    "                if c_min > np.finfo(np.float16).min and c_max < np.finfo(np.float16).max:\n",
    "                    df[col] = df[col].astype(np.float16)\n",
    "                elif c_min > np.finfo(np.float32).min and c_max < np.finfo(np.float32).max:\n",
    "                    df[col] = df[col].astype(np.float32)\n",
    "                else:\n",
    "                    df[col] = df[col].astype(np.float64)\n",
    "\n",
    "    end_mem = df.memory_usage().sum() / 1024**2\n",
    "    print('Memory usage after optimization is: {:.2f} MB'.format(end_mem))\n",
    "    print('Decreased by {:.1f}%'.format(100 * (start_mem - end_mem) / start_mem))\n",
    "\n",
    "    return df\n",
    "train=reduce_mem_usage(train)\n",
    "test=reduce_mem_usage(test)\n",
    "train_fe=reduce_mem_usage(train_fe)"
   ]
  },
  {
   "cell_type": "code",
   "execution_count": 6,
   "metadata": {},
   "outputs": [],
   "source": [
    "train=train.merge(train_fe,how='left',left_on='node1_id',right_on='node_id')"
   ]
  },
  {
   "cell_type": "code",
   "execution_count": 7,
   "metadata": {},
   "outputs": [],
   "source": [
    "del train['node_id']"
   ]
  },
  {
   "cell_type": "code",
   "execution_count": 8,
   "metadata": {},
   "outputs": [],
   "source": [
    "train=train.merge(train_fe,how='left',left_on='node2_id',right_on='node_id')"
   ]
  },
  {
   "cell_type": "code",
   "execution_count": 9,
   "metadata": {},
   "outputs": [],
   "source": [
    "del train['node_id']"
   ]
  },
  {
   "cell_type": "code",
   "execution_count": 10,
   "metadata": {},
   "outputs": [
    {
     "data": {
      "text/html": [
       "<div>\n",
       "<style scoped>\n",
       "    .dataframe tbody tr th:only-of-type {\n",
       "        vertical-align: middle;\n",
       "    }\n",
       "\n",
       "    .dataframe tbody tr th {\n",
       "        vertical-align: top;\n",
       "    }\n",
       "\n",
       "    .dataframe thead th {\n",
       "        text-align: right;\n",
       "    }\n",
       "</style>\n",
       "<table border=\"1\" class=\"dataframe\">\n",
       "  <thead>\n",
       "    <tr style=\"text-align: right;\">\n",
       "      <th></th>\n",
       "      <th>node1_id</th>\n",
       "      <th>node2_id</th>\n",
       "      <th>is_chat</th>\n",
       "      <th>full_chat_mean_x</th>\n",
       "      <th>full_chat_sum_x</th>\n",
       "      <th>full_chat_count_x</th>\n",
       "      <th>full_chat_mean_y</th>\n",
       "      <th>full_chat_sum_y</th>\n",
       "      <th>full_chat_count_y</th>\n",
       "    </tr>\n",
       "  </thead>\n",
       "  <tbody>\n",
       "    <tr>\n",
       "      <th>0</th>\n",
       "      <td>8446602</td>\n",
       "      <td>6636127</td>\n",
       "      <td>0</td>\n",
       "      <td>0.000000</td>\n",
       "      <td>0.0</td>\n",
       "      <td>0.0</td>\n",
       "      <td>0.000000</td>\n",
       "      <td>0.0</td>\n",
       "      <td>0.0</td>\n",
       "    </tr>\n",
       "    <tr>\n",
       "      <th>1</th>\n",
       "      <td>1430102</td>\n",
       "      <td>7433949</td>\n",
       "      <td>0</td>\n",
       "      <td>0.000000</td>\n",
       "      <td>0.0</td>\n",
       "      <td>0.0</td>\n",
       "      <td>0.000000</td>\n",
       "      <td>0.0</td>\n",
       "      <td>0.0</td>\n",
       "    </tr>\n",
       "    <tr>\n",
       "      <th>2</th>\n",
       "      <td>2803017</td>\n",
       "      <td>8372333</td>\n",
       "      <td>0</td>\n",
       "      <td>0.043488</td>\n",
       "      <td>1.0</td>\n",
       "      <td>23.0</td>\n",
       "      <td>0.208374</td>\n",
       "      <td>5.0</td>\n",
       "      <td>24.0</td>\n",
       "    </tr>\n",
       "    <tr>\n",
       "      <th>3</th>\n",
       "      <td>4529348</td>\n",
       "      <td>894645</td>\n",
       "      <td>0</td>\n",
       "      <td>0.000000</td>\n",
       "      <td>0.0</td>\n",
       "      <td>0.0</td>\n",
       "      <td>0.000000</td>\n",
       "      <td>0.0</td>\n",
       "      <td>0.0</td>\n",
       "    </tr>\n",
       "    <tr>\n",
       "      <th>4</th>\n",
       "      <td>5096572</td>\n",
       "      <td>4211638</td>\n",
       "      <td>0</td>\n",
       "      <td>0.117676</td>\n",
       "      <td>2.0</td>\n",
       "      <td>17.0</td>\n",
       "      <td>0.000000</td>\n",
       "      <td>0.0</td>\n",
       "      <td>0.0</td>\n",
       "    </tr>\n",
       "  </tbody>\n",
       "</table>\n",
       "</div>"
      ],
      "text/plain": [
       "   node1_id  node2_id  is_chat  full_chat_mean_x  full_chat_sum_x  \\\n",
       "0   8446602   6636127        0          0.000000              0.0   \n",
       "1   1430102   7433949        0          0.000000              0.0   \n",
       "2   2803017   8372333        0          0.043488              1.0   \n",
       "3   4529348    894645        0          0.000000              0.0   \n",
       "4   5096572   4211638        0          0.117676              2.0   \n",
       "\n",
       "   full_chat_count_x  full_chat_mean_y  full_chat_sum_y  full_chat_count_y  \n",
       "0                0.0          0.000000              0.0                0.0  \n",
       "1                0.0          0.000000              0.0                0.0  \n",
       "2               23.0          0.208374              5.0               24.0  \n",
       "3                0.0          0.000000              0.0                0.0  \n",
       "4               17.0          0.000000              0.0                0.0  "
      ]
     },
     "execution_count": 10,
     "metadata": {},
     "output_type": "execute_result"
    }
   ],
   "source": [
    "train.head()"
   ]
  },
  {
   "cell_type": "code",
   "execution_count": 11,
   "metadata": {},
   "outputs": [],
   "source": [
    "test=test.merge(train_fe,how='left',left_on='node1_id',right_on='node_id')\n",
    "del test['node_id']\n",
    "test=test.merge(train_fe,how='left',left_on='node2_id',right_on='node_id')\n",
    "del test['node_id']"
   ]
  },
  {
   "cell_type": "code",
   "execution_count": 12,
   "metadata": {},
   "outputs": [],
   "source": [
    "train=train.fillna(0)\n",
    "test=test.fillna(0)"
   ]
  },
  {
   "cell_type": "code",
   "execution_count": 13,
   "metadata": {},
   "outputs": [
    {
     "data": {
      "text/html": [
       "<div>\n",
       "<style scoped>\n",
       "    .dataframe tbody tr th:only-of-type {\n",
       "        vertical-align: middle;\n",
       "    }\n",
       "\n",
       "    .dataframe tbody tr th {\n",
       "        vertical-align: top;\n",
       "    }\n",
       "\n",
       "    .dataframe thead th {\n",
       "        text-align: right;\n",
       "    }\n",
       "</style>\n",
       "<table border=\"1\" class=\"dataframe\">\n",
       "  <thead>\n",
       "    <tr style=\"text-align: right;\">\n",
       "      <th></th>\n",
       "      <th>id</th>\n",
       "      <th>node1_id</th>\n",
       "      <th>node2_id</th>\n",
       "      <th>full_chat_mean_x</th>\n",
       "      <th>full_chat_sum_x</th>\n",
       "      <th>full_chat_count_x</th>\n",
       "      <th>full_chat_mean_y</th>\n",
       "      <th>full_chat_sum_y</th>\n",
       "      <th>full_chat_count_y</th>\n",
       "    </tr>\n",
       "  </thead>\n",
       "  <tbody>\n",
       "    <tr>\n",
       "      <th>0</th>\n",
       "      <td>1</td>\n",
       "      <td>7107094</td>\n",
       "      <td>8010772</td>\n",
       "      <td>0.000000</td>\n",
       "      <td>0.0</td>\n",
       "      <td>0.0</td>\n",
       "      <td>0.099976</td>\n",
       "      <td>1.0</td>\n",
       "      <td>10.0</td>\n",
       "    </tr>\n",
       "    <tr>\n",
       "      <th>1</th>\n",
       "      <td>2</td>\n",
       "      <td>7995251</td>\n",
       "      <td>2805801</td>\n",
       "      <td>0.000000</td>\n",
       "      <td>0.0</td>\n",
       "      <td>0.0</td>\n",
       "      <td>0.098389</td>\n",
       "      <td>6.0</td>\n",
       "      <td>61.0</td>\n",
       "    </tr>\n",
       "    <tr>\n",
       "      <th>2</th>\n",
       "      <td>3</td>\n",
       "      <td>2804693</td>\n",
       "      <td>8059549</td>\n",
       "      <td>0.000000</td>\n",
       "      <td>0.0</td>\n",
       "      <td>0.0</td>\n",
       "      <td>0.000000</td>\n",
       "      <td>0.0</td>\n",
       "      <td>0.0</td>\n",
       "    </tr>\n",
       "    <tr>\n",
       "      <th>3</th>\n",
       "      <td>4</td>\n",
       "      <td>4812472</td>\n",
       "      <td>7332370</td>\n",
       "      <td>0.000000</td>\n",
       "      <td>0.0</td>\n",
       "      <td>0.0</td>\n",
       "      <td>0.000000</td>\n",
       "      <td>0.0</td>\n",
       "      <td>0.0</td>\n",
       "    </tr>\n",
       "    <tr>\n",
       "      <th>4</th>\n",
       "      <td>5</td>\n",
       "      <td>5009985</td>\n",
       "      <td>4511909</td>\n",
       "      <td>0.027023</td>\n",
       "      <td>1.0</td>\n",
       "      <td>37.0</td>\n",
       "      <td>0.009903</td>\n",
       "      <td>1.0</td>\n",
       "      <td>101.0</td>\n",
       "    </tr>\n",
       "  </tbody>\n",
       "</table>\n",
       "</div>"
      ],
      "text/plain": [
       "   id  node1_id  node2_id  full_chat_mean_x  full_chat_sum_x  \\\n",
       "0   1   7107094   8010772          0.000000              0.0   \n",
       "1   2   7995251   2805801          0.000000              0.0   \n",
       "2   3   2804693   8059549          0.000000              0.0   \n",
       "3   4   4812472   7332370          0.000000              0.0   \n",
       "4   5   5009985   4511909          0.027023              1.0   \n",
       "\n",
       "   full_chat_count_x  full_chat_mean_y  full_chat_sum_y  full_chat_count_y  \n",
       "0                0.0          0.099976              1.0               10.0  \n",
       "1                0.0          0.098389              6.0               61.0  \n",
       "2                0.0          0.000000              0.0                0.0  \n",
       "3                0.0          0.000000              0.0                0.0  \n",
       "4               37.0          0.009903              1.0              101.0  "
      ]
     },
     "execution_count": 13,
     "metadata": {},
     "output_type": "execute_result"
    }
   ],
   "source": [
    "test.head()"
   ]
  },
  {
   "cell_type": "code",
   "execution_count": 14,
   "metadata": {},
   "outputs": [
    {
     "name": "stdout",
     "output_type": "stream",
     "text": [
      "Memory usage after optimization is: 133.98 MB\n",
      "Decreased by 84.8%\n"
     ]
    }
   ],
   "source": [
    "user_features=reduce_mem_usage(pd.read_csv('user_features.csv'))"
   ]
  },
  {
   "cell_type": "code",
   "execution_count": 15,
   "metadata": {},
   "outputs": [],
   "source": [
    "train_1=pd.merge(train, user_features, how='left', left_on='node1_id', right_on='node_id')"
   ]
  },
  {
   "cell_type": "code",
   "execution_count": 16,
   "metadata": {},
   "outputs": [],
   "source": [
    "train_1=train_1.drop(['node_id'],axis=1)"
   ]
  },
  {
   "cell_type": "code",
   "execution_count": 17,
   "metadata": {},
   "outputs": [],
   "source": [
    "train_2=pd.merge(train_1, user_features, how='left', left_on='node2_id', right_on='node_id')"
   ]
  },
  {
   "cell_type": "code",
   "execution_count": 18,
   "metadata": {},
   "outputs": [],
   "source": [
    "train_2=train_2.drop(['node_id','node1_id','node2_id'],axis=1)"
   ]
  },
  {
   "cell_type": "code",
   "execution_count": 20,
   "metadata": {},
   "outputs": [],
   "source": [
    "train_2['f13_x']=train_2['f13_x'].astype('category')\n",
    "train_2['f13_y']=train_2['f13_y'].astype('category')\n",
    "train_2['is_chat']=train_2['is_chat'].astype('category')"
   ]
  },
  {
   "cell_type": "code",
   "execution_count": 21,
   "metadata": {},
   "outputs": [],
   "source": [
    "y_train=train_2['is_chat']"
   ]
  },
  {
   "cell_type": "code",
   "execution_count": 22,
   "metadata": {},
   "outputs": [],
   "source": [
    "train_2=train_2.drop(['is_chat'],axis=1)"
   ]
  },
  {
   "cell_type": "code",
   "execution_count": 23,
   "metadata": {},
   "outputs": [],
   "source": [
    "ids=test.id"
   ]
  },
  {
   "cell_type": "code",
   "execution_count": 24,
   "metadata": {},
   "outputs": [],
   "source": [
    "test_1=pd.merge(test, user_features, how='left', left_on='node1_id', right_on='node_id')"
   ]
  },
  {
   "cell_type": "code",
   "execution_count": 25,
   "metadata": {},
   "outputs": [],
   "source": [
    "test_1=test_1.drop(['node_id'],axis=1)"
   ]
  },
  {
   "cell_type": "code",
   "execution_count": 26,
   "metadata": {},
   "outputs": [],
   "source": [
    "test_2=pd.merge(test_1, user_features, how='left', left_on='node2_id', right_on='node_id')"
   ]
  },
  {
   "cell_type": "code",
   "execution_count": 27,
   "metadata": {},
   "outputs": [],
   "source": [
    "test_2=test_2.drop(['node1_id','node2_id'],axis=1)"
   ]
  },
  {
   "cell_type": "code",
   "execution_count": 28,
   "metadata": {},
   "outputs": [],
   "source": [
    "test_2=test_2.drop(['id','node_id'],axis=1)"
   ]
  },
  {
   "cell_type": "code",
   "execution_count": 29,
   "metadata": {},
   "outputs": [],
   "source": [
    "del test,test_1"
   ]
  },
  {
   "cell_type": "code",
   "execution_count": 30,
   "metadata": {},
   "outputs": [],
   "source": [
    "del train,train_1,user_features,train_fe"
   ]
  },
  {
   "cell_type": "code",
   "execution_count": 31,
   "metadata": {},
   "outputs": [],
   "source": [
    "test_2['f13_x']=test_2['f13_x'].astype('category')\n",
    "test_2['f13_y']=test_2['f13_y'].astype('category')"
   ]
  },
  {
   "cell_type": "code",
   "execution_count": 32,
   "metadata": {},
   "outputs": [],
   "source": [
    "import time\n",
    "from sklearn.model_selection import StratifiedKFold\n",
    "import lightgbm as lgb\n",
    "from sklearn.metrics import roc_curve, auc, roc_auc_score\n",
    "from sklearn.model_selection import train_test_split"
   ]
  },
  {
   "cell_type": "code",
   "execution_count": 33,
   "metadata": {},
   "outputs": [],
   "source": [
    "X_train, X_valid, Y_train, Y_valid =train_test_split(train_2,y_train,test_size=0.2,stratify=y_train)"
   ]
  },
  {
   "cell_type": "code",
   "execution_count": 34,
   "metadata": {},
   "outputs": [],
   "source": [
    "train_data = lgb.Dataset(X_train, label=Y_train,free_raw_data=False)\n",
    "valid_data = lgb.Dataset(X_valid, label=Y_valid,free_raw_data=False)"
   ]
  },
  {
   "cell_type": "code",
   "execution_count": 35,
   "metadata": {},
   "outputs": [
    {
     "data": {
      "text/plain": [
       "0"
      ]
     },
     "execution_count": 35,
     "metadata": {},
     "output_type": "execute_result"
    }
   ],
   "source": [
    "import gc\n",
    "gc.collect()"
   ]
  },
  {
   "cell_type": "code",
   "execution_count": 36,
   "metadata": {},
   "outputs": [],
   "source": [
    "del X_train,Y_train"
   ]
  },
  {
   "cell_type": "code",
   "execution_count": 41,
   "metadata": {},
   "outputs": [],
   "source": [
    "# callback\n",
    "def save_model():\n",
    "    def callback(env):\n",
    "        model=env.model\n",
    "        if env.iteration%100==0:\n",
    "            model.save_model('./final_folder/model_'+str(env.iteration)+'.txt')\n",
    "    callback.before_iteration = False\n",
    "    callback.order = 0\n",
    "    return callback"
   ]
  },
  {
   "cell_type": "code",
   "execution_count": 39,
   "metadata": {},
   "outputs": [],
   "source": [
    "params_tuned = {\n",
    "#     'bagging_freq': 5,\n",
    "#    'bagging_fraction': 0.9,\n",
    "#    'boost_from_average':'false',\n",
    "    'boost': 'gbdt',\n",
    "#     'feature_fraction': 0.05,\n",
    "    'learning_rate': 0.15,\n",
    "    'max_depth': -1,  \n",
    "    'metric':'auc',\n",
    "#    'min_data_in_leaf': 80,\n",
    "#     'min_sum_hessian_in_leaf': 10.0,\n",
    "#     'num_leaves': 13,\n",
    "    'num_threads': -1,\n",
    "    'tree_learner': 'serial',\n",
    "    'objective': 'binary', \n",
    "    'verbosity': 1,\n",
    "    'num_leaves': 100,\n",
    "    \"device\" : \"gpu\",\n",
    "    \"gpu_platform_id\" : 0,\n",
    "    \"gpu_device_id\" : 0\n",
    "    \n",
    "}"
   ]
  },
  {
   "cell_type": "code",
   "execution_count": 42,
   "metadata": {},
   "outputs": [
    {
     "name": "stdout",
     "output_type": "stream",
     "text": [
      "Training until validation scores don't improve for 300 rounds.\n",
      "[100]\tvalid_0's auc: 0.972164\n",
      "[200]\tvalid_0's auc: 0.972776\n",
      "[300]\tvalid_0's auc: 0.972775\n",
      "[400]\tvalid_0's auc: 0.972853\n",
      "[500]\tvalid_0's auc: 0.972988\n",
      "[600]\tvalid_0's auc: 0.973103\n",
      "[700]\tvalid_0's auc: 0.973163\n",
      "[800]\tvalid_0's auc: 0.973282\n",
      "[900]\tvalid_0's auc: 0.97326\n",
      "[1000]\tvalid_0's auc: 0.973252\n",
      "Early stopping, best iteration is:\n",
      "[792]\tvalid_0's auc: 0.973291\n"
     ]
    }
   ],
   "source": [
    "lgb_model = lgb.train(params_tuned,train_data,num_boost_round=10000,\n",
    "                valid_sets = [valid_data],verbose_eval=100,early_stopping_rounds = 300,callbacks=[save_model()])"
   ]
  },
  {
   "cell_type": "code",
   "execution_count": null,
   "metadata": {},
   "outputs": [],
   "source": []
  }
 ],
 "metadata": {
  "kernelspec": {
   "display_name": "Python 3",
   "language": "python",
   "name": "python3"
  },
  "language_info": {
   "codemirror_mode": {
    "name": "ipython",
    "version": 3
   },
   "file_extension": ".py",
   "mimetype": "text/x-python",
   "name": "python",
   "nbconvert_exporter": "python",
   "pygments_lexer": "ipython3",
   "version": "3.5.2"
  }
 },
 "nbformat": 4,
 "nbformat_minor": 2
}
